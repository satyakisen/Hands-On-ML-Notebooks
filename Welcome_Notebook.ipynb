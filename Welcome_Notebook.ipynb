{
  "nbformat": 4,
  "nbformat_minor": 0,
  "metadata": {
    "colab": {
      "provenance": [],
      "authorship_tag": "ABX9TyNGWeGuzS6R0VlbGXqZyZJY",
      "include_colab_link": true
    },
    "kernelspec": {
      "name": "python3",
      "display_name": "Python 3"
    },
    "language_info": {
      "name": "python"
    }
  },
  "cells": [
    {
      "cell_type": "markdown",
      "metadata": {
        "id": "view-in-github",
        "colab_type": "text"
      },
      "source": [
        "<a href=\"https://colab.research.google.com/github/satyakisen/Hands-On-ML-Notebooks/blob/main/Welcome_Notebook.ipynb\" target=\"_parent\"><img src=\"https://colab.research.google.com/assets/colab-badge.svg\" alt=\"Open In Colab\"/></a>"
      ]
    },
    {
      "cell_type": "markdown",
      "source": [
        "Hello!!! And welcome to the world of Machine learning. In this notebook we are going to build a model that predicts the median housing price in any district, given all the metrics."
      ],
      "metadata": {
        "id": "uO_ZOQGe6gbR"
      }
    },
    {
      "cell_type": "markdown",
      "source": [
        "## Download the Dataset"
      ],
      "metadata": {
        "id": "aM5IIsTrAljv"
      }
    },
    {
      "cell_type": "code",
      "source": [
        "import os\n",
        "import tarfile\n",
        "from six.moves import urllib\n",
        "\n",
        "DOWNLOAD_URL = 'https://raw.githubusercontent.com/ageron/handson-ml2/master/'\n",
        "HOUSING_PATH = os.path.join(\"datasets\", \"housing\")\n",
        "HOUSING_URL = DOWNLOAD_URL + 'datasets/housing/housing.tgz'"
      ],
      "metadata": {
        "id": "RP2YLFMY7Fpg"
      },
      "execution_count": 1,
      "outputs": []
    }
  ]
}