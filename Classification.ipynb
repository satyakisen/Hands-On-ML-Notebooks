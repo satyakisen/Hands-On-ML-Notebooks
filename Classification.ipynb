{
  "nbformat": 4,
  "nbformat_minor": 0,
  "metadata": {
    "colab": {
      "provenance": [],
      "authorship_tag": "ABX9TyPKQyVw8QCNgazkm5P071Yz",
      "include_colab_link": true
    },
    "kernelspec": {
      "name": "python3",
      "display_name": "Python 3"
    },
    "language_info": {
      "name": "python"
    }
  },
  "cells": [
    {
      "cell_type": "markdown",
      "metadata": {
        "id": "view-in-github",
        "colab_type": "text"
      },
      "source": [
        "<a href=\"https://colab.research.google.com/github/satyakisen/Hands-On-ML-Notebooks/blob/main/Classification.ipynb\" target=\"_parent\"><img src=\"https://colab.research.google.com/assets/colab-badge.svg\" alt=\"Open In Colab\"/></a>"
      ]
    },
    {
      "cell_type": "markdown",
      "source": [
        "# Welcome To the world of Classification.\n",
        "In this notebook we are going to classify a handwritten image to its corresponding value. In tradition, this problem is known to all data scientist as the MNIST problems.<br>\n",
        "\n"
      ],
      "metadata": {
        "id": "ppNi4RCKCnb9"
      }
    }
  ]
}